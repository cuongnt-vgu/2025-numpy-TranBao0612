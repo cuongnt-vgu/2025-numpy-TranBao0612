{
 "cells": [
  {
   "cell_type": "code",
   "execution_count": 22,
   "metadata": {},
   "outputs": [
    {
     "name": "stderr",
     "output_type": "stream",
     "text": [
      "WARNING:root:Ignoring repeated attempt to bind to globals\n"
     ]
    },
    {
     "name": "stdout",
     "output_type": "stream",
     "text": [
      "Setup Complete\n"
     ]
    }
   ],
   "source": [
    "# Importing dependencies\n",
    "\n",
    "from learntools.core import binder\n",
    "import numpy as np\n",
    "\n",
    "binder.bind(globals())\n",
    "\n",
    "from learntools_ex import *\n",
    "\n",
    "import string\n",
    "\n",
    "print(\"Setup Complete\")"
   ]
  },
  {
   "cell_type": "markdown",
   "metadata": {},
   "source": [
    "## **Questions**"
   ]
  },
  {
   "cell_type": "markdown",
   "metadata": {},
   "source": [
    "### **IMPORTANT**: You **don't** have to delete any `q{n}.check()` or `q{n}.hint()` or `q{n}_sol = question_{n}()`. Please make sure that the function name and function signature match the question and the example given. Additionally, all functions should be runnable or your solution will not be evaluated."
   ]
  },
  {
   "cell_type": "markdown",
   "metadata": {},
   "source": [
    "## **Q1:** Create a one-dimensional NumPy array of the numbers from 5 to 905, counting by 10, exclusive 905?"
   ]
  },
  {
   "cell_type": "code",
   "execution_count": 17,
   "metadata": {},
   "outputs": [
    {
     "data": {
      "application/javascript": "parent.postMessage({\"jupyterEvent\": \"custom.exercise_interaction\", \"data\": {\"outcomeType\": 1, \"valueTowardsCompletion\": 0.05, \"interactionType\": 1, \"questionType\": 1, \"questionId\": \"1_Exercise1\", \"failureMessage\": \"\", \"exceptionClass\": \"\", \"trace\": \"\"}}, \"*\")",
      "text/plain": [
       "<IPython.core.display.Javascript object>"
      ]
     },
     "metadata": {},
     "output_type": "display_data"
    },
    {
     "data": {
      "text/markdown": [
       "<span style=\"color:#33cc33\">Correct</span>"
      ],
      "text/plain": [
       "Correct"
      ]
     },
     "metadata": {},
     "output_type": "display_data"
    }
   ],
   "source": [
    "def question_1():\n",
    "    return np.arange(5, 905, 10)\n",
    "\n",
    "\n",
    "q1_sol = question_1()\n",
    "q1.check()"
   ]
  },
  {
   "cell_type": "markdown",
   "metadata": {},
   "source": [
    "## **Q2**: Create the same NumPy array using a Python range and a list? (Hint: create a list)"
   ]
  },
  {
   "cell_type": "code",
   "execution_count": 20,
   "metadata": {},
   "outputs": [
    {
     "data": {
      "application/javascript": "parent.postMessage({\"jupyterEvent\": \"custom.exercise_interaction\", \"data\": {\"outcomeType\": 1, \"valueTowardsCompletion\": 0.05, \"interactionType\": 1, \"questionType\": 1, \"questionId\": \"2_Exercise2\", \"failureMessage\": \"\", \"exceptionClass\": \"\", \"trace\": \"\"}}, \"*\")",
      "text/plain": [
       "<IPython.core.display.Javascript object>"
      ]
     },
     "metadata": {},
     "output_type": "display_data"
    },
    {
     "data": {
      "text/markdown": [
       "<span style=\"color:#33cc33\">Correct</span>"
      ],
      "text/plain": [
       "Correct"
      ]
     },
     "metadata": {},
     "output_type": "display_data"
    }
   ],
   "source": [
    "def question_2():\n",
    "    l = list(range(5, 905, 10))\n",
    "    arr = np.array(l)\n",
    "    return arr\n",
    "\n",
    "\n",
    "q2_sol = question_2()\n",
    "q2.check()"
   ]
  },
  {
   "cell_type": "markdown",
   "metadata": {},
   "source": [
    "## **Q3**: How might you create a NumPy array of the capital letters, A-Z? (Hint: Ever heard of string.ascii_uppercase?)"
   ]
  },
  {
   "cell_type": "code",
   "execution_count": 23,
   "metadata": {},
   "outputs": [
    {
     "data": {
      "application/javascript": "parent.postMessage({\"jupyterEvent\": \"custom.exercise_interaction\", \"data\": {\"outcomeType\": 1, \"valueTowardsCompletion\": 0.05, \"interactionType\": 1, \"questionType\": 1, \"questionId\": \"3_Exercise3\", \"failureMessage\": \"\", \"exceptionClass\": \"\", \"trace\": \"\"}}, \"*\")",
      "text/plain": [
       "<IPython.core.display.Javascript object>"
      ]
     },
     "metadata": {},
     "output_type": "display_data"
    },
    {
     "data": {
      "text/markdown": [
       "<span style=\"color:#33cc33\">Correct</span>"
      ],
      "text/plain": [
       "Correct"
      ]
     },
     "metadata": {},
     "output_type": "display_data"
    }
   ],
   "source": [
    "def question_3():\n",
    "    arr = np.array(list(string.ascii_uppercase))\n",
    "    return arr\n",
    "\n",
    "\n",
    "q3_sol = question_3()\n",
    "q3.check()"
   ]
  },
  {
   "cell_type": "markdown",
   "metadata": {},
   "source": [
    "## **Q4**: Create a ten-element NumPy array object of all zeros and a six-element NumPy array object of all ones."
   ]
  },
  {
   "cell_type": "code",
   "execution_count": 24,
   "metadata": {},
   "outputs": [
    {
     "data": {
      "application/javascript": "parent.postMessage({\"jupyterEvent\": \"custom.exercise_interaction\", \"data\": {\"outcomeType\": 1, \"valueTowardsCompletion\": 0.05, \"interactionType\": 1, \"questionType\": 1, \"questionId\": \"4_Exercise4\", \"failureMessage\": \"\", \"exceptionClass\": \"\", \"trace\": \"\"}}, \"*\")",
      "text/plain": [
       "<IPython.core.display.Javascript object>"
      ]
     },
     "metadata": {},
     "output_type": "display_data"
    },
    {
     "data": {
      "text/markdown": [
       "<span style=\"color:#33cc33\">Correct</span>"
      ],
      "text/plain": [
       "Correct"
      ]
     },
     "metadata": {},
     "output_type": "display_data"
    }
   ],
   "source": [
    "def question_4() -> tuple:\n",
    "    sol1 = np.zeros(10)\n",
    "    sol2 = np.ones(6)\n",
    "    return (sol1, sol2)\n",
    "\n",
    "q4_sol_1, q4_sol_2 = question_4()\n",
    "q4.check()"
   ]
  },
  {
   "cell_type": "markdown",
   "metadata": {},
   "source": [
    "## **Q5**: Given an 2-D array, print the third column."
   ]
  },
  {
   "cell_type": "code",
   "execution_count": 27,
   "metadata": {},
   "outputs": [
    {
     "data": {
      "application/javascript": "parent.postMessage({\"jupyterEvent\": \"custom.exercise_interaction\", \"data\": {\"outcomeType\": 1, \"valueTowardsCompletion\": 0.05, \"interactionType\": 1, \"questionType\": 1, \"questionId\": \"5_Exercise5\", \"failureMessage\": \"\", \"exceptionClass\": \"\", \"trace\": \"\"}}, \"*\")",
      "text/plain": [
       "<IPython.core.display.Javascript object>"
      ]
     },
     "metadata": {},
     "output_type": "display_data"
    },
    {
     "data": {
      "text/markdown": [
       "<span style=\"color:#33cc33\">Correct</span>"
      ],
      "text/plain": [
       "Correct"
      ]
     },
     "metadata": {},
     "output_type": "display_data"
    }
   ],
   "source": [
    "input = np.array([[11, 22, 33], [44, 55, 66], [77, 88, 99]])\n",
    "\n",
    "\n",
    "def question_5(input):\n",
    "    return input[:, 2]\n",
    "\n",
    "\n",
    "q5_sol = question_5(input)\n",
    "q5.check()"
   ]
  },
  {
   "cell_type": "markdown",
   "metadata": {},
   "source": [
    "## **Q6**: Create an array of the shape (3, 4), filled with 64-bit integer zeros."
   ]
  },
  {
   "cell_type": "code",
   "execution_count": 28,
   "metadata": {},
   "outputs": [
    {
     "data": {
      "application/javascript": "parent.postMessage({\"jupyterEvent\": \"custom.exercise_interaction\", \"data\": {\"outcomeType\": 1, \"valueTowardsCompletion\": 0.05, \"interactionType\": 1, \"questionType\": 1, \"questionId\": \"6_Exercise6\", \"failureMessage\": \"\", \"exceptionClass\": \"\", \"trace\": \"\"}}, \"*\")",
      "text/plain": [
       "<IPython.core.display.Javascript object>"
      ]
     },
     "metadata": {},
     "output_type": "display_data"
    },
    {
     "data": {
      "text/markdown": [
       "<span style=\"color:#33cc33\">Correct</span>"
      ],
      "text/plain": [
       "Correct"
      ]
     },
     "metadata": {},
     "output_type": "display_data"
    }
   ],
   "source": [
    "def question_6():\n",
    "    arr = np.zeros((3, 4), dtype = np.int64)\n",
    "    return arr\n",
    "\n",
    "\n",
    "q6_sol = question_6()\n",
    "q6.check()"
   ]
  },
  {
   "cell_type": "markdown",
   "metadata": {},
   "source": [
    "## **Q7**: Split an array into 3 equal-sized sub-arrays."
   ]
  },
  {
   "cell_type": "code",
   "execution_count": 30,
   "metadata": {},
   "outputs": [
    {
     "data": {
      "application/javascript": "parent.postMessage({\"jupyterEvent\": \"custom.exercise_interaction\", \"data\": {\"outcomeType\": 1, \"valueTowardsCompletion\": 0.05, \"interactionType\": 1, \"questionType\": 1, \"questionId\": \"7_Exercise7\", \"failureMessage\": \"\", \"exceptionClass\": \"\", \"trace\": \"\"}}, \"*\")",
      "text/plain": [
       "<IPython.core.display.Javascript object>"
      ]
     },
     "metadata": {},
     "output_type": "display_data"
    },
    {
     "data": {
      "text/markdown": [
       "<span style=\"color:#33cc33\">Correct</span>"
      ],
      "text/plain": [
       "Correct"
      ]
     },
     "metadata": {},
     "output_type": "display_data"
    }
   ],
   "source": [
    "input = np.arange(7, 34, 1).reshape(9, 3)\n",
    "\n",
    "\n",
    "\n",
    "def question_7(input):\n",
    "    q7_sol_1, q7_sol_2, q7_sol_3 = np.split(input, 3)\n",
    "    return q7_sol_1, q7_sol_2, q7_sol_3\n",
    "\n",
    "\n",
    "q7_sol_1, q7_sol_2, q7_sol_3 = question_7(input)\n",
    "q7.check()"
   ]
  },
  {
   "cell_type": "markdown",
   "metadata": {},
   "source": [
    "## **Q8**: Return the last 2 elements by each of the first two rows of the (3,4) array. "
   ]
  },
  {
   "cell_type": "code",
   "execution_count": 32,
   "metadata": {},
   "outputs": [
    {
     "data": {
      "application/javascript": "parent.postMessage({\"jupyterEvent\": \"custom.exercise_interaction\", \"data\": {\"outcomeType\": 1, \"valueTowardsCompletion\": 0.05, \"interactionType\": 1, \"questionType\": 1, \"questionId\": \"8_Exercise8\", \"failureMessage\": \"\", \"exceptionClass\": \"\", \"trace\": \"\"}}, \"*\")",
      "text/plain": [
       "<IPython.core.display.Javascript object>"
      ]
     },
     "metadata": {},
     "output_type": "display_data"
    },
    {
     "data": {
      "text/markdown": [
       "<span style=\"color:#33cc33\">Correct</span>"
      ],
      "text/plain": [
       "Correct"
      ]
     },
     "metadata": {},
     "output_type": "display_data"
    }
   ],
   "source": [
    "input = np.arange(1, 13, 1).reshape(3, 4)\n",
    "\n",
    "\n",
    "def question_8(input):\n",
    "    return input[0:2, -2:]\n",
    "\n",
    "\n",
    "q8_sol = question_8(input)\n",
    "q8.check()"
   ]
  },
  {
   "cell_type": "markdown",
   "metadata": {},
   "source": [
    "## **Q9**: Return how many elements are greater than 5 in an array."
   ]
  },
  {
   "cell_type": "code",
   "execution_count": 37,
   "metadata": {},
   "outputs": [
    {
     "data": {
      "application/javascript": "parent.postMessage({\"jupyterEvent\": \"custom.exercise_interaction\", \"data\": {\"outcomeType\": 1, \"valueTowardsCompletion\": 0.05, \"interactionType\": 1, \"questionType\": 1, \"questionId\": \"9_Exercise9\", \"failureMessage\": \"\", \"exceptionClass\": \"\", \"trace\": \"\"}}, \"*\")",
      "text/plain": [
       "<IPython.core.display.Javascript object>"
      ]
     },
     "metadata": {},
     "output_type": "display_data"
    },
    {
     "data": {
      "text/markdown": [
       "<span style=\"color:#33cc33\">Correct</span>"
      ],
      "text/plain": [
       "Correct"
      ]
     },
     "metadata": {},
     "output_type": "display_data"
    }
   ],
   "source": [
    "input = np.arange(1, 13, 1).reshape(3, 4)\n",
    "\n",
    "\n",
    "def question_9(input):\n",
    "    return np.sum(input > 5)\n",
    "\n",
    "\n",
    "q9_sol = question_9(input)\n",
    "q9.check()"
   ]
  },
  {
   "cell_type": "markdown",
   "metadata": {},
   "source": [
    "## **Q10**: Delete the second column from an array and insert the following new column in the same place."
   ]
  },
  {
   "cell_type": "code",
   "execution_count": null,
   "metadata": {},
   "outputs": [
    {
     "data": {
      "application/javascript": "parent.postMessage({\"jupyterEvent\": \"custom.exercise_interaction\", \"data\": {\"outcomeType\": 1, \"valueTowardsCompletion\": 0.05, \"interactionType\": 1, \"questionType\": 1, \"questionId\": \"10_Exercise10\", \"failureMessage\": \"\", \"exceptionClass\": \"\", \"trace\": \"\"}}, \"*\")",
      "text/plain": [
       "<IPython.core.display.Javascript object>"
      ]
     },
     "metadata": {},
     "output_type": "display_data"
    },
    {
     "data": {
      "text/markdown": [
       "<span style=\"color:#33cc33\">Correct</span>"
      ],
      "text/plain": [
       "Correct"
      ]
     },
     "metadata": {},
     "output_type": "display_data"
    }
   ],
   "source": [
    "input = np.array([[34, 72, 33], [82, 22, 32], [59, 84, 10]])\n",
    "insert_data = np.array([[37, 37, 37]])\n",
    "\n",
    "\n",
    "def question_10(input, insert_data):\n",
    "    insert_data = insert_data.reshape(1, 3)\n",
    "    input[:, 1] = insert_data\n",
    "    return input\n",
    "\n",
    "\n",
    "q10_sol = question_10(input, insert_data)\n",
    "q10.check()"
   ]
  },
  {
   "cell_type": "markdown",
   "metadata": {},
   "source": [
    "## **Q11**: Compute the Euclidean distance between each pair of consecutive points in a given 2D NumPy array and append the result as a new column. Pad with 0 for missing data.\n",
    "\n",
    "Euclidian distance between two points $(x_1, y_1)$ and $(x_2, y_2)$ is $\\sqrt{(x_2 - x_1)^2 + (y_2 - y_1)^2}$.  "
   ]
  },
  {
   "cell_type": "code",
   "execution_count": 54,
   "metadata": {},
   "outputs": [
    {
     "data": {
      "application/javascript": "parent.postMessage({\"jupyterEvent\": \"custom.exercise_interaction\", \"data\": {\"outcomeType\": 1, \"valueTowardsCompletion\": 0.05, \"interactionType\": 1, \"questionType\": 1, \"questionId\": \"11_Exercise11\", \"failureMessage\": \"\", \"exceptionClass\": \"\", \"trace\": \"\"}}, \"*\")",
      "text/plain": [
       "<IPython.core.display.Javascript object>"
      ]
     },
     "metadata": {},
     "output_type": "display_data"
    },
    {
     "data": {
      "text/markdown": [
       "<span style=\"color:#33cc33\">Correct</span>"
      ],
      "text/plain": [
       "Correct"
      ]
     },
     "metadata": {},
     "output_type": "display_data"
    }
   ],
   "source": [
    "input = np.array([[1, 2], [4, 6], [7, 8], [10, 10]])\n",
    "\n",
    "\n",
    "def question_11(input):\n",
    "    difference = np.diff(input, axis = 0)\n",
    "    distance = np.sqrt(np.sum(difference ** 2, axis = 1))\n",
    "    distance = np.append(distance, 0)\n",
    "    result = np.concatenate((input, distance[:, np.newaxis]), axis = 1)\n",
    "\n",
    "    return result\n",
    "\n",
    "q11_sol = question_11(input)\n",
    "q11.check()"
   ]
  },
  {
   "cell_type": "markdown",
   "metadata": {},
   "source": [
    "## **Q12**: Remove consecutive duplicates from a NumPy array."
   ]
  },
  {
   "cell_type": "code",
   "execution_count": null,
   "metadata": {},
   "outputs": [
    {
     "data": {
      "application/javascript": "parent.postMessage({\"jupyterEvent\": \"custom.exercise_interaction\", \"data\": {\"outcomeType\": 1, \"valueTowardsCompletion\": 0.05, \"interactionType\": 1, \"questionType\": 1, \"questionId\": \"12_Exercise12\", \"failureMessage\": \"\", \"exceptionClass\": \"\", \"trace\": \"\"}}, \"*\")",
      "text/plain": [
       "<IPython.core.display.Javascript object>"
      ]
     },
     "metadata": {},
     "output_type": "display_data"
    },
    {
     "data": {
      "text/markdown": [
       "<span style=\"color:#33cc33\">Correct</span>"
      ],
      "text/plain": [
       "Correct"
      ]
     },
     "metadata": {},
     "output_type": "display_data"
    }
   ],
   "source": [
    "input = np.array([[1, 1], [2, 1], [3, 3], [3, 3], [2, 1], [1, 1]])\n",
    "\n",
    "\n",
    "def question_12(input):\n",
    "    mask = np.array([True])\n",
    "    arr = np.any(input[:-1] != input[1:], axis = 1)\n",
    "    mask = np.append(mask, arr)\n",
    "\n",
    "    result = input[mask]\n",
    "    return result\n",
    "\n",
    "q12_sol = question_12(input)\n",
    "q12.check()"
   ]
  },
  {
   "cell_type": "markdown",
   "metadata": {},
   "source": [
    "## **Q13**: Given a 2D NumPy array representing strokes, normalize all rows by subtracting the mean of each column and dividing by the standard deviation, but avoid division by zero.\n",
    "$X_{\\text{normalized}} = \\frac{X - \\mu}{\\sigma}$"
   ]
  },
  {
   "cell_type": "code",
   "execution_count": 55,
   "metadata": {},
   "outputs": [
    {
     "data": {
      "application/javascript": "parent.postMessage({\"jupyterEvent\": \"custom.exercise_interaction\", \"data\": {\"outcomeType\": 1, \"valueTowardsCompletion\": 0.05, \"interactionType\": 1, \"questionType\": 1, \"questionId\": \"13_Exercise13\", \"failureMessage\": \"\", \"exceptionClass\": \"\", \"trace\": \"\"}}, \"*\")",
      "text/plain": [
       "<IPython.core.display.Javascript object>"
      ]
     },
     "metadata": {},
     "output_type": "display_data"
    },
    {
     "data": {
      "text/markdown": [
       "<span style=\"color:#33cc33\">Correct</span>"
      ],
      "text/plain": [
       "Correct"
      ]
     },
     "metadata": {},
     "output_type": "display_data"
    }
   ],
   "source": [
    "input = np.array([[10, 20, 30], [15, 24, 33], [8, 18, 29], [14, 22, 32]])\n",
    "\n",
    "\n",
    "def question_13(input):\n",
    "    mean = np.mean(input, axis = 0)\n",
    "    standard_deviation = np.std(input, axis = 0)\n",
    "    result = (input - mean)/standard_deviation\n",
    "    \n",
    "    return result\n",
    "\n",
    "\n",
    "q13_sol = question_13(input)\n",
    "q13.check()"
   ]
  },
  {
   "cell_type": "markdown",
   "metadata": {},
   "source": [
    "## **Q14**: Delete the second column from an array and insert a new column at the same position where each value is the sum of its corresponding row."
   ]
  },
  {
   "cell_type": "code",
   "execution_count": 58,
   "metadata": {},
   "outputs": [
    {
     "data": {
      "application/javascript": "parent.postMessage({\"jupyterEvent\": \"custom.exercise_interaction\", \"data\": {\"outcomeType\": 1, \"valueTowardsCompletion\": 0.05, \"interactionType\": 1, \"questionType\": 1, \"questionId\": \"14_Exercise14\", \"failureMessage\": \"\", \"exceptionClass\": \"\", \"trace\": \"\"}}, \"*\")",
      "text/plain": [
       "<IPython.core.display.Javascript object>"
      ]
     },
     "metadata": {},
     "output_type": "display_data"
    },
    {
     "data": {
      "text/markdown": [
       "<span style=\"color:#33cc33\">Correct</span>"
      ],
      "text/plain": [
       "Correct"
      ]
     },
     "metadata": {},
     "output_type": "display_data"
    }
   ],
   "source": [
    "input = np.array([[1, 2, 3], [4, 5, 6], [7, 8, 9]])\n",
    "\n",
    "\n",
    "def question_14(input):\n",
    "    result = np.sum(input, axis = 1)\n",
    "    input[:, 1] = result\n",
    "    return input\n",
    "\n",
    "\n",
    "q14_sol = question_14(input)\n",
    "q14.check()"
   ]
  },
  {
   "cell_type": "markdown",
   "metadata": {},
   "source": [
    "## **Q15**: Extract Unique Characters from a NumPy Array of Strings\n",
    "Given a 1D NumPy array of strings, extract all unique characters present in the array and sort by their ASCII values."
   ]
  },
  {
   "cell_type": "code",
   "execution_count": 66,
   "metadata": {},
   "outputs": [
    {
     "data": {
      "application/javascript": "parent.postMessage({\"jupyterEvent\": \"custom.exercise_interaction\", \"data\": {\"outcomeType\": 1, \"valueTowardsCompletion\": 0.05, \"interactionType\": 1, \"questionType\": 1, \"questionId\": \"15_Exercise15\", \"failureMessage\": \"\", \"exceptionClass\": \"\", \"trace\": \"\"}}, \"*\")",
      "text/plain": [
       "<IPython.core.display.Javascript object>"
      ]
     },
     "metadata": {},
     "output_type": "display_data"
    },
    {
     "data": {
      "text/markdown": [
       "<span style=\"color:#33cc33\">Correct</span>"
      ],
      "text/plain": [
       "Correct"
      ]
     },
     "metadata": {},
     "output_type": "display_data"
    }
   ],
   "source": [
    "input = np.array([\"hello\", \"world\", \"numpy\", \"rocks\"])\n",
    "\n",
    "\n",
    "def question_15(input):\n",
    "    result = set(sorted(\"\".join(input)))  # I thought it should be sorted(set()) instead\n",
    "    return result\n",
    "\n",
    "\n",
    "q15_sol = question_15(input)\n",
    "q15.check()"
   ]
  },
  {
   "cell_type": "markdown",
   "metadata": {},
   "source": [
    "## **Q16**: Generate a dictionary that maps each unique character to a unique index starting with 0, sorted by ascending ASCII value."
   ]
  },
  {
   "cell_type": "code",
   "execution_count": 73,
   "metadata": {},
   "outputs": [
    {
     "data": {
      "application/javascript": "parent.postMessage({\"jupyterEvent\": \"custom.exercise_interaction\", \"data\": {\"outcomeType\": 1, \"valueTowardsCompletion\": 0.05, \"interactionType\": 1, \"questionType\": 1, \"questionId\": \"16_Exercise16\", \"failureMessage\": \"\", \"exceptionClass\": \"\", \"trace\": \"\"}}, \"*\")",
      "text/plain": [
       "<IPython.core.display.Javascript object>"
      ]
     },
     "metadata": {},
     "output_type": "display_data"
    },
    {
     "data": {
      "text/markdown": [
       "<span style=\"color:#33cc33\">Correct</span>"
      ],
      "text/plain": [
       "Correct"
      ]
     },
     "metadata": {},
     "output_type": "display_data"
    }
   ],
   "source": [
    "input = np.array([\"a\", \"b\", \"c\", \"d\", \"a\", \"c\", \"e\"])\n",
    "\n",
    "\n",
    "def question_16(input):\n",
    "    input = np.array(list(sorted(set(input))))\n",
    "    index = np.arange(0, input.shape[0], 1)\n",
    "    map_dict = dict(zip(input, index))\n",
    "    return map_dict\n",
    "\n",
    "q16_sol = question_16(input)\n",
    "q16.check()"
   ]
  },
  {
   "cell_type": "markdown",
   "metadata": {},
   "source": [
    "## **Q17**: Convert a List of 2D traces into a Single NumPy Array\n",
    "Given a list of 2D traces (each being a NumPy array of shape `(N, 2)`), stack them into a single NumPy array."
   ]
  },
  {
   "cell_type": "code",
   "execution_count": 74,
   "metadata": {},
   "outputs": [
    {
     "data": {
      "application/javascript": "parent.postMessage({\"jupyterEvent\": \"custom.exercise_interaction\", \"data\": {\"outcomeType\": 1, \"valueTowardsCompletion\": 0.05, \"interactionType\": 1, \"questionType\": 1, \"questionId\": \"17_Exercise17\", \"failureMessage\": \"\", \"exceptionClass\": \"\", \"trace\": \"\"}}, \"*\")",
      "text/plain": [
       "<IPython.core.display.Javascript object>"
      ]
     },
     "metadata": {},
     "output_type": "display_data"
    },
    {
     "data": {
      "text/markdown": [
       "<span style=\"color:#33cc33\">Correct</span>"
      ],
      "text/plain": [
       "Correct"
      ]
     },
     "metadata": {},
     "output_type": "display_data"
    }
   ],
   "source": [
    "input = [np.array([[1, 2], [3, 4]]), np.array([[5, 6], [7, 8], [9, 10]])]\n",
    "\n",
    "\n",
    "def question_17(input):\n",
    "    return np.concatenate((input[0], input[1]), axis = 0)\n",
    "\n",
    "\n",
    "q17_sol = question_17(input)\n",
    "q17.check()"
   ]
  },
  {
   "cell_type": "markdown",
   "metadata": {},
   "source": [
    "## **Q18**: Convert a List of Text Labels into a NumPy Array of Integer Encodings\n",
    "Given a vocabulary dictionary and a string of space-separated labels, convert the text into a NumPy array of indices."
   ]
  },
  {
   "cell_type": "code",
   "execution_count": 77,
   "metadata": {},
   "outputs": [
    {
     "data": {
      "application/javascript": "parent.postMessage({\"jupyterEvent\": \"custom.exercise_interaction\", \"data\": {\"outcomeType\": 1, \"valueTowardsCompletion\": 0.05, \"interactionType\": 1, \"questionType\": 1, \"questionId\": \"18_Exercise18\", \"failureMessage\": \"\", \"exceptionClass\": \"\", \"trace\": \"\"}}, \"*\")",
      "text/plain": [
       "<IPython.core.display.Javascript object>"
      ]
     },
     "metadata": {},
     "output_type": "display_data"
    },
    {
     "data": {
      "text/markdown": [
       "<span style=\"color:#33cc33\">Correct</span>"
      ],
      "text/plain": [
       "Correct"
      ]
     },
     "metadata": {},
     "output_type": "display_data"
    }
   ],
   "source": [
    "input = {\n",
    "    \"hello\": 0,\n",
    "    \"numpy\": 1,\n",
    "    \"rocks\": 2,\n",
    "    \"world\": 3,\n",
    "    \"python\": 4,\n",
    "    \"data\": 5,\n",
    "    \"science\": 6,\n",
    "}\n",
    "\n",
    "labels = \"hello rocks\"\n",
    "\n",
    "\n",
    "\n",
    "def question_18(input, labels):\n",
    "    result = labels.split()\n",
    "    result = np.array([input.get(x) for x in result])\n",
    "    return result\n",
    "\n",
    "\n",
    "q18_sol = question_18(input, labels)\n",
    "q18.check()"
   ]
  },
  {
   "cell_type": "markdown",
   "metadata": {},
   "source": [
    "## **Q19**: Extract Non-Zero Differences from an Array\n",
    "Given a NumPy array of first-order differences, extract only non-zero differences using masking."
   ]
  },
  {
   "cell_type": "code",
   "execution_count": 79,
   "metadata": {},
   "outputs": [
    {
     "data": {
      "application/javascript": "parent.postMessage({\"jupyterEvent\": \"custom.exercise_interaction\", \"data\": {\"outcomeType\": 1, \"valueTowardsCompletion\": 0.05, \"interactionType\": 1, \"questionType\": 1, \"questionId\": \"19_Exercise19\", \"failureMessage\": \"\", \"exceptionClass\": \"\", \"trace\": \"\"}}, \"*\")",
      "text/plain": [
       "<IPython.core.display.Javascript object>"
      ]
     },
     "metadata": {},
     "output_type": "display_data"
    },
    {
     "data": {
      "text/markdown": [
       "<span style=\"color:#33cc33\">Correct</span>"
      ],
      "text/plain": [
       "Correct"
      ]
     },
     "metadata": {},
     "output_type": "display_data"
    }
   ],
   "source": [
    "input = np.array([[3, 4], [0, 0], [-2, 1]])\n",
    "\n",
    "def question_19(input):\n",
    "    mask = np.diff(input, axis = 1)\n",
    "    mask = mask.astype(bool)\n",
    "    return input[mask.reshape(-1)]\n",
    "\n",
    "\n",
    "q19_sol = question_19(input)\n",
    "q19.check()"
   ]
  },
  {
   "cell_type": "markdown",
   "metadata": {},
   "source": [
    "## **Q20**: Time Series Data Transformation and Feature Engineering\n",
    "\n",
    "### *Problem Statement:*  \n",
    "You are given a time series dataset representing sensor readings from multiple devices. Each row consists of sensor values at a specific timestamp. Your task is to preprocess and extract meaningful features from the dataset by performing the following transformations:\n",
    "\n",
    "### *Steps to Follow:*\n",
    "1. Normalize Each Sensor Reading  \n",
    "- Subtract the mean and divide by the standard deviation for each column.  \n",
    "- Avoid division by zero by replacing std=0 with 1.  \n",
    "2. Detect and Mask Anomalous Values\n",
    "- If a sensor reading is more than 2.5 standard deviations away from the mean, replace it with NaN.\n",
    "3. Interpolate Missing Values (NaN Handling)\n",
    "- Fill NaN values with the average of the nearest non-NaN neighbors.\n",
    "4. Extract First-Order Differences\n",
    "- Compute the difference between consecutive time steps for each sensor.\n",
    "- Padding with 0 for missing data\n",
    "5. Add Binary Columns for Missing Data\n",
    "- Stack All Features into a Final Matrix\n",
    "Create new columns `missing_flag` that is `1` where original data was `NaN`, otherwise `0`.\n",
    "6. Stack All Features into a Final Matrix\n",
    "- The final dataset should have normalized values, first-order differences, and the missing flag.\n",
    "\n",
    "Expected shape (5, 9)"
   ]
  },
  {
   "cell_type": "code",
   "execution_count": null,
   "metadata": {},
   "outputs": [
    {
     "ename": "ValueError",
     "evalue": "all the input arrays must have same number of dimensions, but the array at index 0 has 2 dimension(s) and the array at index 2 has 0 dimension(s)",
     "output_type": "error",
     "traceback": [
      "\u001b[1;31m---------------------------------------------------------------------------\u001b[0m",
      "\u001b[1;31mValueError\u001b[0m                                Traceback (most recent call last)",
      "Cell \u001b[1;32mIn[80], line 39\u001b[0m\n\u001b[0;32m     35\u001b[0m     result \u001b[38;5;241m=\u001b[39m np\u001b[38;5;241m.\u001b[39mconcatenate((interpolate, fo_diff, missing_flag), axis \u001b[38;5;241m=\u001b[39m \u001b[38;5;241m1\u001b[39m)\n\u001b[0;32m     37\u001b[0m     \u001b[38;5;28;01mreturn\u001b[39;00m result\n\u001b[1;32m---> 39\u001b[0m q20_sol \u001b[38;5;241m=\u001b[39m \u001b[43mquestion_20\u001b[49m\u001b[43m(\u001b[49m\u001b[38;5;28;43minput\u001b[39;49m\u001b[43m)\u001b[49m\n\u001b[0;32m     40\u001b[0m q20\u001b[38;5;241m.\u001b[39mcheck()\n",
      "Cell \u001b[1;32mIn[80], line 35\u001b[0m, in \u001b[0;36mquestion_20\u001b[1;34m(input)\u001b[0m\n\u001b[0;32m     31\u001b[0m missing_flag \u001b[38;5;241m=\u001b[39m missing_flag\u001b[38;5;241m.\u001b[39mastype(\u001b[38;5;28mint\u001b[39m)\n\u001b[0;32m     34\u001b[0m \u001b[38;5;66;03m# Step 6: create final matrix by concatenate Normalize/interpolate, fo_diff, missing_flag by axis 1\u001b[39;00m\n\u001b[1;32m---> 35\u001b[0m result \u001b[38;5;241m=\u001b[39m \u001b[43mnp\u001b[49m\u001b[38;5;241;43m.\u001b[39;49m\u001b[43mconcatenate\u001b[49m\u001b[43m(\u001b[49m\u001b[43m(\u001b[49m\u001b[43minterpolate\u001b[49m\u001b[43m,\u001b[49m\u001b[43m \u001b[49m\u001b[43mfo_diff\u001b[49m\u001b[43m,\u001b[49m\u001b[43m \u001b[49m\u001b[43mmissing_flag\u001b[49m\u001b[43m)\u001b[49m\u001b[43m,\u001b[49m\u001b[43m \u001b[49m\u001b[43maxis\u001b[49m\u001b[43m \u001b[49m\u001b[38;5;241;43m=\u001b[39;49m\u001b[43m \u001b[49m\u001b[38;5;241;43m1\u001b[39;49m\u001b[43m)\u001b[49m\n\u001b[0;32m     37\u001b[0m \u001b[38;5;28;01mreturn\u001b[39;00m result\n",
      "\u001b[1;31mValueError\u001b[0m: all the input arrays must have same number of dimensions, but the array at index 0 has 2 dimension(s) and the array at index 2 has 0 dimension(s)"
     ]
    }
   ],
   "source": [
    "input = np.array(\n",
    "    [\n",
    "        [1.0, 10.0, 100.0],\n",
    "        [2.0, 20.0, 200.0],\n",
    "        [3.0, 30.0, 10000.0],  # Outlier in third column\n",
    "        [4.0, 40.0, 400.0],\n",
    "        [5.0, 50.0, 500.0],\n",
    "    ]\n",
    ")\n",
    "\n",
    "\n",
    "def question_20(input):\n",
    "    # Step 1: normalize array\n",
    "    mean = np.mean(input, axis = 0)\n",
    "    standard_deviation = np.std(input, axis = 0)\n",
    "    standard_deviation = np.where(standard_deviation == 0, 1, standard_deviation)\n",
    "    Normalize = (input - mean)/standard_deviation\n",
    "\n",
    "    # Step_2: replace anomalous value by nan\n",
    "    ano_remove = np.where(np.abs(Normalize) > 2.5, np.nan, Normalize)\n",
    "\n",
    "    # Step 3: replace nan by average\n",
    "    interpolate = np.where(np.isnan(ano_remove), np.nanmean(ano_remove), ano_remove)\n",
    "\n",
    "    # Step 4: calculate first order difference\n",
    "    fo_diff = np.diff(interpolate, axis = 0)\n",
    "    fo_diff = np.concatenate((np.zeros((1, 3)), fo_diff), axis = 0)\n",
    "\n",
    "    # Step 5: flag NaN as 1\n",
    "    missing_flag = np.isnan(interpolate)\n",
    "    missing_flag = missing_flag.astype(int)\n",
    "\n",
    "\n",
    "    # Step 6: create final matrix by concatenate Normalize/interpolate, fo_diff, missing_flag by axis 1\n",
    "    result = np.concatenate((interpolate, fo_diff, missing_flag), axis = 1)\n",
    "\n",
    "    return result\n",
    "\n",
    "q20_sol = question_20(input)\n",
    "q20.check()"
   ]
  }
 ],
 "metadata": {
  "kernelspec": {
   "display_name": "Python 3",
   "language": "python",
   "name": "python3"
  },
  "language_info": {
   "codemirror_mode": {
    "name": "ipython",
    "version": 3
   },
   "file_extension": ".py",
   "mimetype": "text/x-python",
   "name": "python",
   "nbconvert_exporter": "python",
   "pygments_lexer": "ipython3",
   "version": "3.9.13"
  }
 },
 "nbformat": 4,
 "nbformat_minor": 2
}
